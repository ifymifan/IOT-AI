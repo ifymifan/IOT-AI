{
  "nbformat": 4,
  "nbformat_minor": 0,
  "metadata": {
    "colab": {
      "provenance": [],
      "authorship_tag": "ABX9TyOyurWbv5W/BWzMjvAC0Te1",
      "include_colab_link": true
    },
    "kernelspec": {
      "name": "python3",
      "display_name": "Python 3"
    },
    "language_info": {
      "name": "python"
    }
  },
  "cells": [
    {
      "cell_type": "markdown",
      "metadata": {
        "id": "view-in-github",
        "colab_type": "text"
      },
      "source": [
        "<a href=\"https://colab.research.google.com/github/ifymifan/IOT-AI/blob/main/Lab5_3_Using_spark_to_load_Image_as_a_dataframe.ipynb\" target=\"_parent\"><img src=\"https://colab.research.google.com/assets/colab-badge.svg\" alt=\"Open In Colab\"/></a>"
      ]
    },
    {
      "cell_type": "code",
      "source": [
        "!pip install sparkdl\n",
        "\n",
        "from sparkdl import readImages\n",
        "image_df = readImages(\"/content\")\n",
        "image_df.show()"
      ],
      "metadata": {
        "colab": {
          "base_uri": "https://localhost:8080/"
        },
        "id": "9xI2vFo2STIZ",
        "outputId": "a1c788ef-a2db-40cc-8348-874809691fe0"
      },
      "execution_count": 85,
      "outputs": [
        {
          "output_type": "stream",
          "name": "stdout",
          "text": [
            "Requirement already satisfied: sparkdl in /usr/local/lib/python3.11/dist-packages (0.2.2)\n",
            "+--------------------+--------------------+\n",
            "|            filePath|               image|\n",
            "+--------------------+--------------------+\n",
            "|file:/content/Ani...|{RGB, 408, 612, 3...|\n",
            "|file:/content/peo...|{RGB, 463, 612, 3...|\n",
            "|file:/content/tra...|                NULL|\n",
            "|file:/content/Ani...|{RGB, 408, 612, 3...|\n",
            "|file:/content/gen...|                NULL|\n",
            "|file:/content/tes...|                NULL|\n",
            "+--------------------+--------------------+\n",
            "\n"
          ]
        }
      ]
    },
    {
      "cell_type": "code",
      "source": [
        "from pyspark.ml.classification import LogisticRegression\n",
        "from pyspark.ml import Pipeline\n",
        "from sparkdl import DeepImageFeaturizer\n",
        "\n",
        "featurizer = DeepImageFeaturizer(inputCol=\"image\", outputCol=\"features\", modelName=\"InceptionV3\")\n",
        "lr=LogisticRegression(maxIter=20, regParam=0.05, elasticNetParam=0.3, labelCol=\"label\")\n",
        "p = Pipeline(stages=[featurizer])\n",
        "\n"
      ],
      "metadata": {
        "id": "1b-anHUkUHor"
      },
      "execution_count": 88,
      "outputs": []
    },
    {
      "cell_type": "code",
      "source": [
        "p_model=p.fit(train_df)"
      ],
      "metadata": {
        "id": "lR8BzS8VX6sR"
      },
      "execution_count": 89,
      "outputs": []
    }
  ]
}